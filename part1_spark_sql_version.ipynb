{
 "cells": [
  {
   "cell_type": "code",
   "execution_count": 1,
   "metadata": {},
   "outputs": [],
   "source": [
    "#setup\n",
    "import sys \n",
    "from pyspark import SparkContext, SparkConf\n",
    "from pyspark.sql import SQLContext\n",
    "from pyspark.sql.types import *\n",
    "from pyspark.sql.functions import *"
   ]
  },
  {
   "cell_type": "code",
   "execution_count": 2,
   "metadata": {},
   "outputs": [],
   "source": [
    "#setting file paths\n",
    "user_path = 'userdata.txt'\n",
    "friends_path = 'soc_file.txt'\n",
    "\n",
    "# create Spark context with Spark configuration\n",
    "conf = SparkConf().setAppName(\"Userdata and Social File.\")\n",
    "sc = SparkContext(conf=conf)\n",
    "sqlContext = SQLContext(sc)"
   ]
  },
  {
   "cell_type": "code",
   "execution_count": 3,
   "metadata": {},
   "outputs": [
    {
     "name": "stdout",
     "output_type": "stream",
     "text": [
      "+------+----------+----------+--------------------+---------+--------------+-------+-------+---------+----------+\n",
      "|userid| firstname|  lastname|             address|     city|         state|zipcode|country| username|       dob|\n",
      "+------+----------+----------+--------------------+---------+--------------+-------+-------+---------+----------+\n",
      "|     0|Evangeline|    Taylor|  3396 Rogers Street| Loveland|          Ohio|  45140|     US|Unfue1996| 1/24/1996|\n",
      "|     1|    Robert|  Cottrell|1775 Sycamore Circle|   Dallas|         Texas|  75234|     US|   Dinvis|11/26/1973|\n",
      "|     2|   Kathryn|      Winn|2858 Jerry Dove D...|   Wampee|South Carolina|  29568|     US|Couchisem| 9/29/1941|\n",
      "|     3|     Harry|Kowalewski|     3835 Romrog Way|Indianola|      Nebraska|  69034|     US|  Scather| 5/21/1950|\n",
      "|     4|     Paula|     McCoy|4915 Aaron Smith ...|     York|  Pennsylvania|  17404|     US|Thandsoll|10/28/1935|\n",
      "+------+----------+----------+--------------------+---------+--------------+-------+-------+---------+----------+\n",
      "only showing top 5 rows\n",
      "\n",
      "root\n",
      " |-- userid: long (nullable = true)\n",
      " |-- firstname: string (nullable = true)\n",
      " |-- lastname: string (nullable = true)\n",
      " |-- address: string (nullable = true)\n",
      " |-- city: string (nullable = true)\n",
      " |-- state: string (nullable = true)\n",
      " |-- zipcode: string (nullable = true)\n",
      " |-- country: string (nullable = true)\n",
      " |-- username: string (nullable = true)\n",
      " |-- dob: string (nullable = true)\n",
      "\n"
     ]
    },
    {
     "data": {
      "text/plain": [
       "49995"
      ]
     },
     "execution_count": 3,
     "metadata": {},
     "output_type": "execute_result"
    }
   ],
   "source": [
    "#preprocessing the userdata\n",
    "\n",
    "# read input user text file to RDD\n",
    "users = sc.textFile(user_path)\n",
    "user_data = list()\n",
    "\n",
    "# collect the RDD to a list\n",
    "llist = users.collect()\n",
    "\n",
    "# checking the line type \n",
    "for line in llist:\n",
    "    x = line.split(',')\n",
    "\n",
    "    user = int(x[0])\n",
    "    details = list()\n",
    "    details.append(user)\n",
    "    \n",
    "    for i in x[1:]:\n",
    "        details.append(i)\n",
    "\n",
    "    user_data.append(tuple(details))\n",
    "    \n",
    "#checking for the records as tuples\n",
    "#for line in user_data:\n",
    "#    print(line)\n",
    "\n",
    "#setting up the file headers\n",
    "user_columns = ['userid','firstname','lastname','address','city','state','zipcode','country','username','dob']\n",
    "\n",
    "#converting the RDD to the DataFrame\n",
    "user_df = sqlContext.createDataFrame(user_data,user_columns)\n",
    "\n",
    "#printing the DF\n",
    "user_df.show(5)\n",
    "user_df.printSchema()\n",
    "user_df.count()"
   ]
  },
  {
   "cell_type": "code",
   "execution_count": 4,
   "metadata": {},
   "outputs": [
    {
     "name": "stdout",
     "output_type": "stream",
     "text": [
      "+------+--------------------+\n",
      "|userid|         friend_list|\n",
      "+------+--------------------+\n",
      "|     0|[1, 2, 3, 4, 5, 6...|\n",
      "|     1|[0, 5, 20, 135, 2...|\n",
      "|     2|[0, 117, 135, 122...|\n",
      "|     3|[0, 12, 41, 55, 1...|\n",
      "|     4|[0, 8, 14, 15, 18...|\n",
      "+------+--------------------+\n",
      "only showing top 5 rows\n",
      "\n",
      "root\n",
      " |-- userid: long (nullable = true)\n",
      " |-- friend_list: array (nullable = true)\n",
      " |    |-- element: long (containsNull = true)\n",
      "\n"
     ]
    },
    {
     "data": {
      "text/plain": [
       "49995"
      ]
     },
     "execution_count": 4,
     "metadata": {},
     "output_type": "execute_result"
    }
   ],
   "source": [
    "#preprocessing the social friends' data\n",
    "\n",
    "# read input social friends text file to RDD\n",
    "friends = sc.textFile(friends_path)\n",
    "friends_data = list()\n",
    "\n",
    "# collect the RDD to a list\n",
    "llist = friends.collect()\n",
    "\n",
    "# checking the line type \n",
    "for line in llist:\n",
    "    x = line.split('\\t')\n",
    "    user = int(x[0])\n",
    "    friend_list = list()\n",
    "    \n",
    "    for i in x[1].split(','):\n",
    "        if i is not '':\n",
    "            friend_list.append(int(i))\n",
    "        \n",
    "    friends_data.append(tuple([user,friend_list]))\n",
    "\n",
    "#checking for the records as tuples\n",
    "#for line in friends_data:\n",
    "#   print(line)\n",
    "\n",
    "#setting file headers\n",
    "friends_columns=['userid','friend_list']\n",
    "\n",
    "#creating friends df\n",
    "friends_df = sqlContext.createDataFrame(friends_data,friends_columns)\n",
    "\n",
    "#printing the DF\n",
    "friends_df.show(5)\n",
    "friends_df.printSchema()\n",
    "friends_df.count()"
   ]
  },
  {
   "cell_type": "code",
   "execution_count": 5,
   "metadata": {},
   "outputs": [
    {
     "name": "stdout",
     "output_type": "stream",
     "text": [
      "+---+--------------------+---+--------------------+----------------+\n",
      "|id1|             friend1|id2|             friend2|check_friendship|\n",
      "+---+--------------------+---+--------------------+----------------+\n",
      "|  0|[1, 2, 3, 4, 5, 6...|  1|[0, 5, 20, 135, 2...|               0|\n",
      "|  0|[1, 2, 3, 4, 5, 6...|  2|[0, 117, 135, 122...|               0|\n",
      "|  0|[1, 2, 3, 4, 5, 6...|  3|[0, 12, 41, 55, 1...|               0|\n",
      "|  0|[1, 2, 3, 4, 5, 6...|  4|[0, 8, 14, 15, 18...|               0|\n",
      "|  0|[1, 2, 3, 4, 5, 6...|  5|[0, 1, 20, 2022, ...|               0|\n",
      "+---+--------------------+---+--------------------+----------------+\n",
      "only showing top 5 rows\n",
      "\n",
      "root\n",
      " |-- id1: long (nullable = true)\n",
      " |-- friend1: array (nullable = true)\n",
      " |    |-- element: long (containsNull = true)\n",
      " |-- id2: long (nullable = true)\n",
      " |-- friend2: array (nullable = true)\n",
      " |    |-- element: long (containsNull = true)\n",
      " |-- check_friendship: integer (nullable = false)\n",
      "\n"
     ]
    }
   ],
   "source": [
    "#crossproduct of the friends database and removing duplicate values and redundant values\n",
    "cross_join  = friends_df.withColumnRenamed('userid', 'id1')\\\n",
    "                        .withColumnRenamed('friend_list','friend1')\\\n",
    "                        .crossJoin(friends_df.withColumnRenamed('userid', 'id2')\\\n",
    "                                    .withColumnRenamed('friend_list','friend2'))\\\n",
    "                        .where('id1 != id2 and id1<id2')\\\n",
    "                        .withColumn('check_friendship', lit(0).cast(IntegerType()))\n",
    "\n",
    "cross_join.show(5)\n",
    "cross_join.printSchema()\n",
    "#cross_join.count()"
   ]
  },
  {
   "cell_type": "code",
   "execution_count": 6,
   "metadata": {},
   "outputs": [
    {
     "name": "stdout",
     "output_type": "stream",
     "text": [
      "0\n",
      "1\n"
     ]
    }
   ],
   "source": [
    "#filtering the mutual friends list\n",
    "def checking_friendship(user1, user1_friends, user2, user2_friends):\n",
    "    if user1 in user2_friends and user2 in user1_friends:\n",
    "        return 1\n",
    "    return 0\n",
    "\n",
    "print(checking_friendship(1, [3,5,7,9], 2, [6,8]))\n",
    "print(checking_friendship(1, [3,4,5,7,9], 4, [1,6,8,10]))"
   ]
  },
  {
   "cell_type": "code",
   "execution_count": 7,
   "metadata": {},
   "outputs": [
    {
     "name": "stdout",
     "output_type": "stream",
     "text": [
      "2\n"
     ]
    }
   ],
   "source": [
    "#intersection of the mutual friend list\n",
    "def mutual_friends(list1,list2):\n",
    "    set_friends1 = set(list1)\n",
    "    set_friends2 = set(list2)\n",
    "    return len(set_friends1.intersection(set_friends2))\n",
    "\n",
    "#checking how the function works\n",
    "print(mutual_friends([1,2,3,4,4],[3,4,5,6,6]))"
   ]
  },
  {
   "cell_type": "code",
   "execution_count": 9,
   "metadata": {},
   "outputs": [
    {
     "name": "stdout",
     "output_type": "stream",
     "text": [
      "+---+--------------------+---+--------------------+----------------+\n",
      "|id1|             friend1|id2|             friend2|check_friendship|\n",
      "+---+--------------------+---+--------------------+----------------+\n",
      "|  0|[1, 2, 3, 4, 5, 6...|  1|[0, 5, 20, 135, 2...|               2|\n",
      "|  0|[1, 2, 3, 4, 5, 6...|  3|[0, 12, 41, 55, 1...|               3|\n",
      "|  0|[1, 2, 3, 4, 5, 6...|  4|[0, 8, 14, 15, 18...|               9|\n",
      "|  0|[1, 2, 3, 4, 5, 6...|  5|[0, 1, 20, 2022, ...|               2|\n",
      "|  0|[1, 2, 3, 4, 5, 6...|  6|[0, 21, 98, 2203,...|               1|\n",
      "|  0|[1, 2, 3, 4, 5, 6...|  8|[0, 4, 38, 46, 72...|               6|\n",
      "|  0|[1, 2, 3, 4, 5, 6...| 10|[0, 12, 16, 30, 6...|               3|\n",
      "|  0|[1, 2, 3, 4, 5, 6...| 12|[0, 3, 10, 16, 29...|              11|\n",
      "|  0|[1, 2, 3, 4, 5, 6...| 13|[0, 12584, 32064,...|               2|\n",
      "|  0|[1, 2, 3, 4, 5, 6...| 14|[0, 4, 19, 19079,...|               2|\n",
      "|  0|[1, 2, 3, 4, 5, 6...| 15|      [0, 4, 27, 80]|               3|\n",
      "|  0|[1, 2, 3, 4, 5, 6...| 16|[0, 10, 12, 18, 3...|               8|\n",
      "|  0|[1, 2, 3, 4, 5, 6...| 17|[0, 19, 26, 28, 9...|               4|\n",
      "|  0|[1, 2, 3, 4, 5, 6...| 18|[0, 4, 16, 30, 89...|               4|\n",
      "|  0|[1, 2, 3, 4, 5, 6...| 19|[0, 14, 17, 439, ...|               3|\n",
      "|  0|[1, 2, 3, 4, 5, 6...| 20|[0, 1, 5, 12846, ...|               2|\n",
      "|  0|[1, 2, 3, 4, 5, 6...| 21|[0, 6, 52, 91, 24...|               4|\n",
      "|  0|[1, 2, 3, 4, 5, 6...| 22|[0, 29, 9436, 301...|               1|\n",
      "|  0|[1, 2, 3, 4, 5, 6...| 24|[0, 28, 38, 38774...|               5|\n",
      "|  0|[1, 2, 3, 4, 5, 6...| 26|[0, 17, 18071, 19...|               1|\n",
      "+---+--------------------+---+--------------------+----------------+\n",
      "only showing top 20 rows\n",
      "\n",
      "root\n",
      " |-- id1: long (nullable = true)\n",
      " |-- friend1: array (nullable = true)\n",
      " |    |-- element: long (containsNull = true)\n",
      " |-- id2: long (nullable = true)\n",
      " |-- friend2: array (nullable = true)\n",
      " |    |-- element: long (containsNull = true)\n",
      " |-- check_friendship: integer (nullable = true)\n",
      "\n"
     ]
    }
   ],
   "source": [
    "#checking if both users are friends\n",
    "checking_friendship_function = udf(lambda a, b, c, d : checking_friendship(a, b, c, d), IntegerType())\n",
    "\n",
    "#derieving the mutual friends' numbers and removing the null values.\n",
    "mutual_friends_function = udf(lambda x,y : mutual_friends(x,y), IntegerType())\n",
    "\n",
    "cross_join_df =  cross_join.withColumn('check_friendship', checking_friendship_function\\\n",
    "                                    (col('id1'), col('friend1'), col('id2'), col('friend2')))\\\n",
    "                        .where(\"check_friendship == 1\")\\\n",
    "                        .withColumn('check_friendship',\\\n",
    "                                   mutual_friends_function(col('friend1'),col('friend2')))\\\n",
    "                        .where('check_friendship != 0')\n",
    "\n",
    "cross_join_df.show()\n",
    "cross_join_df.printSchema()\n",
    "#print(cross_join_df.count())"
   ]
  },
  {
   "cell_type": "code",
   "execution_count": 22,
   "metadata": {},
   "outputs": [
    {
     "name": "stdout",
     "output_type": "stream",
     "text": [
      "+---+---+----------------+\n",
      "|id1|id2|check_friendship|\n",
      "+---+---+----------------+\n",
      "|  0|  1|               2|\n",
      "|  0|  3|               3|\n",
      "|  0|  4|               9|\n",
      "|  0|  5|               2|\n",
      "|  0|  6|               1|\n",
      "|  0|  8|               6|\n",
      "|  0| 10|               3|\n",
      "|  0| 12|              11|\n",
      "|  0| 13|               2|\n",
      "|  0| 14|               2|\n",
      "|  0| 15|               3|\n",
      "|  0| 16|               8|\n",
      "|  0| 17|               4|\n",
      "|  0| 18|               4|\n",
      "|  0| 19|               3|\n",
      "|  0| 20|               2|\n",
      "|  0| 21|               4|\n",
      "|  0| 22|               1|\n",
      "|  0| 24|               5|\n",
      "|  0| 26|               1|\n",
      "+---+---+----------------+\n",
      "only showing top 20 rows\n",
      "\n"
     ]
    }
   ],
   "source": [
    "#putting the number of the mutual friends for user1 and user2\n",
    "_cross_join_df =  cross_join_df.drop('friend1').drop('friend2')\n",
    "\n",
    "_cross_join_df.show()"
   ]
  },
  {
   "cell_type": "code",
   "execution_count": 11,
   "metadata": {},
   "outputs": [
    {
     "name": "stdout",
     "output_type": "stream",
     "text": [
      "1, 2\t3\n"
     ]
    }
   ],
   "source": [
    "#printing the format as desired in the output file.\n",
    "def print_format(x,y,z):\n",
    "    return str(x) + ', ' + str(y) + '\\t' + str(z)\n",
    "\n",
    "#checking how the function works\n",
    "print(print_format('1','2','3'))"
   ]
  },
  {
   "cell_type": "code",
   "execution_count": 24,
   "metadata": {},
   "outputs": [
    {
     "name": "stdout",
     "output_type": "stream",
     "text": [
      "+----------------+\n",
      "|check_friendship|\n",
      "+----------------+\n",
      "|          0, 1\t2|\n",
      "|          0, 3\t3|\n",
      "|          0, 4\t9|\n",
      "|          0, 5\t2|\n",
      "|          0, 6\t1|\n",
      "+----------------+\n",
      "only showing top 5 rows\n",
      "\n"
     ]
    }
   ],
   "source": [
    "#Defining the UDF and then applying it to the columns for desired output\n",
    "print_format_function = udf(lambda x,y,z : print_format(x,y,z), StringType())\n",
    "\n",
    "_cross_join_df_ =  _cross_join_df.withColumn('check_friendship',\\\n",
    "                                       print_format_function(col('id1'),col('id2'),col('check_friendship')))\\\n",
    "                            .drop(col('id1'))\\\n",
    "                            .drop(col('id2'))\n",
    "\n",
    "\n",
    "_cross_join_df_.show(5)\n",
    "\n",
    "#saving the question 1 answer into a text file\n",
    "_cross_join_df_.write.text('spark_sql_version/mutual_friend_number.txt')"
   ]
  },
  {
   "cell_type": "code",
   "execution_count": 25,
   "metadata": {},
   "outputs": [],
   "source": [
    "#ordering in the descending order and then printing the top 10 for\n",
    "sorted_data = _cross_join_df.orderBy(col('check_friendship').desc()).take(10)"
   ]
  },
  {
   "cell_type": "code",
   "execution_count": 26,
   "metadata": {},
   "outputs": [
    {
     "name": "stdout",
     "output_type": "stream",
     "text": [
      "Row(id1=18688, id2=18710, check_friendship=99)\n",
      "Row(id1=18685, id2=18696, check_friendship=99)\n",
      "Row(id1=18670, id2=18679, check_friendship=99)\n",
      "Row(id1=18683, id2=18728, check_friendship=99)\n",
      "Row(id1=18676, id2=18721, check_friendship=99)\n",
      "Row(id1=18666, id2=18668, check_friendship=99)\n",
      "Row(id1=18681, id2=18707, check_friendship=99)\n",
      "Row(id1=18695, id2=18711, check_friendship=99)\n",
      "Row(id1=18676, id2=18712, check_friendship=99)\n",
      "Row(id1=18683, id2=18710, check_friendship=99)\n",
      "root\n",
      " |-- id1: long (nullable = true)\n",
      " |-- id2: long (nullable = true)\n",
      " |-- check_friendship: integer (nullable = true)\n",
      "\n",
      "['id1', 'id2', 'check_friendship']\n"
     ]
    }
   ],
   "source": [
    "#printing each line to check the file\n",
    "for line in sorted_data:\n",
    "    print(line)\n",
    "\n",
    "#printing the cross join df schema\n",
    "_cross_join_df.printSchema()\n",
    "    \n",
    "#printing the column names\n",
    "print(_cross_join_df.columns)"
   ]
  },
  {
   "cell_type": "code",
   "execution_count": 27,
   "metadata": {},
   "outputs": [
    {
     "name": "stdout",
     "output_type": "stream",
     "text": [
      "+-----+-----+----------------+\n",
      "|  id1|  id2|check_friendship|\n",
      "+-----+-----+----------------+\n",
      "|18688|18710|              99|\n",
      "|18685|18696|              99|\n",
      "|18670|18679|              99|\n",
      "|18683|18728|              99|\n",
      "|18676|18721|              99|\n",
      "|18666|18668|              99|\n",
      "|18681|18707|              99|\n",
      "|18695|18711|              99|\n",
      "|18676|18712|              99|\n",
      "|18683|18710|              99|\n",
      "+-----+-----+----------------+\n",
      "\n"
     ]
    }
   ],
   "source": [
    "#creating the dataframe for the sorted data\n",
    "sorted_data_df = sqlContext.createDataFrame(sorted_data,_cross_join_df.columns)\n",
    "\n",
    "#looking at the sorted data df\n",
    "sorted_data_df.show()"
   ]
  },
  {
   "cell_type": "code",
   "execution_count": 28,
   "metadata": {},
   "outputs": [
    {
     "name": "stdout",
     "output_type": "stream",
     "text": [
      "+------+---------+--------+--------------------+\n",
      "|userid|firstname|lastname|             address|\n",
      "+------+---------+--------+--------------------+\n",
      "|    26|   Rachel|     Lew|     4135 Mesa Drive|\n",
      "|    29|   George| Kuebler|    37 Duncan Avenue|\n",
      "|   474|   Yvonne|   Early|536 Round Table D...|\n",
      "|   964|  Michael|  Rhoton|4665 Dancing Dove...|\n",
      "|  1677|     Eric|Hillyard|   3658 Alpha Avenue|\n",
      "|  1697|  Crystal| Allison|3756 Feathers Hoo...|\n",
      "|  1806| Kathleen|Mathison| 199 West Fork Drive|\n",
      "|  1950|   Donald|Carrasco| 776 Beechwood Drive|\n",
      "|  2040|      Tim|     Cox|    3553 Pointe Lane|\n",
      "|  2214|     Olga|   Beane|1083 Pritchard Court|\n",
      "|  2250|  Gustavo|   Glanz|3654 Powder House...|\n",
      "|  2453|     Tara|Martinez|    503 Bluff Street|\n",
      "|  2509|    Harry|   Wells|  4613 Callison Lane|\n",
      "|  2529|     Ryan|Peterson|4613 Lake Forest ...|\n",
      "|  2927|   Morris|Newberry|  137 Carriage Court|\n",
      "|  3091|     Troy|Linville|       34 White Lane|\n",
      "|  3506|     Troy|  Fowler|      4827 Oak Drive|\n",
      "|  3764|    Doris|  Walker|3772 Romines Mill...|\n",
      "|  4590|  Theresa| Beverly|     541 Adonais Way|\n",
      "|  4823|  Bethany|    Gray|  2557 Coffman Alley|\n",
      "+------+---------+--------+--------------------+\n",
      "only showing top 20 rows\n",
      "\n"
     ]
    }
   ],
   "source": [
    "#joining the tables using inner_join\n",
    "inner_join = user_df.join(friends_df, user_df.userid == friends_df.userid)\\\n",
    "              .drop(friends_df.userid)\\\n",
    "              .drop('city','state','zipcode','country','username','dob','friend_list')\n",
    "\n",
    "inner_join.show()"
   ]
  },
  {
   "cell_type": "code",
   "execution_count": 31,
   "metadata": {},
   "outputs": [
    {
     "name": "stdout",
     "output_type": "stream",
     "text": [
      "+-----+-----+----------------+------------------+--------------------+--------------------+\n",
      "|  id1|  id2|check_friendship|                 f|                   n|                   a|\n",
      "+-----+-----+----------------+------------------+--------------------+--------------------+\n",
      "|18676|18712|              99|   [William, Nola]|     [Carey, Joyner]|[91 School Street...|\n",
      "|18670|18679|              99|     [Alan, Titus]|      [Hiltz, Beach]|[3441 Peck Street...|\n",
      "|18681|18707|              99| [Arthur, Raymond]|[Stephenson, Norman]|[3405 Jewell Road...|\n",
      "|18695|18711|              99|    [Arron, Roger]|       [Batz, Salls]|[4301 Doe Meadow ...|\n",
      "|18688|18710|              99| [Gerald, Gregory]|       [Wisner, Won]|[4414 Cambridge P...|\n",
      "|18683|18728|              99|[Charles, Anthony]|     [Davis, Manley]|[2359 West Fork D...|\n",
      "|18683|18710|              99| [Gerald, Charles]|     [Wisner, Davis]|[4414 Cambridge P...|\n",
      "|18685|18696|              99|   [Bambi, Amanda]|  [Villegas, Turner]|[1329 Grove Avenu...|\n",
      "|18676|18721|              99|   [Jane, William]|      [Irish, Carey]|[582 Dogwood Road...|\n",
      "|18666|18668|              99|  [Amanda, Thomas]|     [Degroot, Hook]|[1705 Upton Avenu...|\n",
      "+-----+-----+----------------+------------------+--------------------+--------------------+\n",
      "\n",
      "+----------------+-----------+----------+--------------------+-----------+----------+--------------------+\n",
      "|check_friendship|A_firstname|A_lastname|           A_address|B_firstname|B_lastname|           B_address|\n",
      "+----------------+-----------+----------+--------------------+-----------+----------+--------------------+\n",
      "|              99|       Alan|     Hiltz|    3441 Peck Street|      Titus|     Beach|  379 Weekley Street|\n",
      "|              99|    William|     Carey|    91 School Street|       Nola|    Joyner|  1872 Lyndon Street|\n",
      "|              99|      Arron|      Batz|4301 Doe Meadow D...|      Roger|     Salls|  1144 Kinney Street|\n",
      "|              99|     Arthur|Stephenson|    3405 Jewell Road|    Raymond|    Norman|2937 Black Stalli...|\n",
      "|              99|     Amanda|   Degroot|   1705 Upton Avenue|     Thomas|      Hook|1153 Sycamore Circle|\n",
      "|              99|    Charles|     Davis|2359 West Fork Drive|    Anthony|    Manley| 258 Eastland Avenue|\n",
      "|              99|      Bambi|  Villegas|   1329 Grove Avenue|     Amanda|    Turner|   1164 Hewes Avenue|\n",
      "|              99|     Gerald|    Wisner|4414 Cambridge Place|    Charles|     Davis|2359 West Fork Drive|\n",
      "|              99|       Jane|     Irish|    582 Dogwood Road|    William|     Carey|    91 School Street|\n",
      "|              99|     Gerald|    Wisner|4414 Cambridge Place|    Gregory|       Won|   1146 Meadow Drive|\n",
      "+----------------+-----------+----------+--------------------+-----------+----------+--------------------+\n",
      "\n"
     ]
    }
   ],
   "source": [
    "#creating aliases for the new formed tables\n",
    "users = inner_join.alias('users')\n",
    "mutual_friends_table = sorted_data_df.alias('mutual_friends_table')\n",
    "\n",
    "#creating a new df using userdata and social friends and final_top_ten_mutual_friends_userdata \n",
    "tab1 = mutual_friends_table\\\n",
    "            .join(users, (users.userid==mutual_friends_table.id1)|(users.userid==mutual_friends_table.id2))\\\n",
    "            .drop(users.userid)\\\n",
    "            .groupBy(mutual_friends_table.id1,mutual_friends_table.id2,mutual_friends_table.check_friendship)\\\n",
    "            .agg(collect_list(users.firstname).alias('f'),collect_list(users.lastname).alias('n'),collect_list(users.address).alias('a'))\\\n",
    "            .orderBy(col('check_friendship').desc())\n",
    "tab1.show()\n",
    "\n",
    "tab2 = tab1.select\\\n",
    "                (mutual_friends_table.check_friendship,\\\n",
    "                 tab1.f[0].alias('A_firstname'),\\\n",
    "                 tab1.n[0].alias('A_lastname'),\\\n",
    "                 tab1.a[0].alias('A_address'),\\\n",
    "                 tab1.f[1].alias('B_firstname'),\\\n",
    "                 tab1.n[1].alias('B_lastname'),\\\n",
    "                 tab1.a[1].alias('B_address'))\n",
    "tab2.show()\n"
   ]
  },
  {
   "cell_type": "code",
   "execution_count": 32,
   "metadata": {},
   "outputs": [
    {
     "name": "stdout",
     "output_type": "stream",
     "text": [
      "1\t2\t3\t4\t5\t6\t7\n"
     ]
    }
   ],
   "source": [
    "def _print_format(k,x,y,z,a,b,c):\n",
    "    return str(k) + '\\t' + str(x) + '\\t' + str(y) + '\\t' + str(z) + '\\t' + str(a) + '\\t' + str(b) + '\\t' + str(c)\n",
    "\n",
    "print(_print_format('1','2','3','4','5','6','7'))"
   ]
  },
  {
   "cell_type": "code",
   "execution_count": 33,
   "metadata": {},
   "outputs": [],
   "source": [
    "_print_format_function = udf(lambda k,x,y,z,a,b,c : _print_format(k,x,y,z,a,b,c), StringType())\n",
    "\n",
    "_tab2_df = tab2.withColumn\\\n",
    "                ('check_friendship',_print_format_function(\\\n",
    "                                col('check_friendship'),\\\n",
    "                                col('A_firstname'),\\\n",
    "                                col('A_lastname'),\\\n",
    "                                col('A_address'),\\\n",
    "                                col('B_firstname'),\\\n",
    "                                col('B_lastname'),\\\n",
    "                                col('B_address')))\\\n",
    "                .drop('A_firstname')\\\n",
    "                .drop('A_lastname')\\\n",
    "                .drop('A_address')\\\n",
    "                .drop('B_firstname')\\\n",
    "                .drop('B_lastname')\\\n",
    "                .drop('B_address')\n",
    "\n",
    "_tab2_df.write.text('spark_sql_version/top_ten_users_mutual_friends.txt')"
   ]
  },
  {
   "cell_type": "code",
   "execution_count": null,
   "metadata": {},
   "outputs": [],
   "source": []
  }
 ],
 "metadata": {
  "kernelspec": {
   "display_name": "Python 3",
   "language": "python",
   "name": "python3"
  },
  "language_info": {
   "codemirror_mode": {
    "name": "ipython",
    "version": 3
   },
   "file_extension": ".py",
   "mimetype": "text/x-python",
   "name": "python",
   "nbconvert_exporter": "python",
   "pygments_lexer": "ipython3",
   "version": "3.6.6"
  }
 },
 "nbformat": 4,
 "nbformat_minor": 2
}
