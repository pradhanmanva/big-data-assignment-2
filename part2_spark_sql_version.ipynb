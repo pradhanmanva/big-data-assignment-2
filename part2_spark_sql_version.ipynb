{
 "cells": [
  {
   "cell_type": "code",
   "execution_count": 1,
   "metadata": {},
   "outputs": [],
   "source": [
    "#setup\n",
    "import sys \n",
    "from pyspark import SparkContext, SparkConf\n",
    "from pyspark.sql import SQLContext\n",
    "from pyspark.sql.functions import *\n",
    "from pyspark.sql.types import *"
   ]
  },
  {
   "cell_type": "code",
   "execution_count": 2,
   "metadata": {},
   "outputs": [],
   "source": [
    "#setting paths for data files\n",
    "business_path = 'business.csv'\n",
    "review_path = 'review.csv'\n",
    "\n",
    "# create Spark context with Spark configuration\n",
    "conf = SparkConf().setAppName(\"Business and Reviews File.\")\n",
    "sc = SparkContext(conf=conf)\n",
    "sqlContext = SQLContext(sc)"
   ]
  },
  {
   "cell_type": "code",
   "execution_count": 3,
   "metadata": {},
   "outputs": [
    {
     "name": "stdout",
     "output_type": "stream",
     "text": [
      "+--------------------+--------------------+--------------------+\n",
      "|          businessid|             address|          categories|\n",
      "+--------------------+--------------------+--------------------+\n",
      "|Iu-oeVzv8ZgP18NIB...|3320 S Hill StSou...|List(Medical Cent...|\n",
      "|ae5tm46-ewAhUJ6HR...|12 Arrow StSte 10...|List(Massage, Bea...|\n",
      "|lb9qELwduFgBo408x...|19 King St E2nd f...|List(Tattoo, Beau...|\n",
      "|HPWmjuivv3xJ279qS...|325 W State StWes...|List(Music & DVDs...|\n",
      "|DARh6yjrGGVZ7R3Gd...|2803 San Jacinto ...|List(Food, Coffee...|\n",
      "|ZKcVHVlD-kwmXFlnP...|817 West Peachtre...|List(Property Man...|\n",
      "|HIPGr2gSEN4T73tjz...|1 Palmer Sq EPrin...|List(Pubs, Bars, ...|\n",
      "|A_Fm4v2-gQuGBBI-G...|16 Division StCoh...|List(Pizza, Resta...|\n",
      "|-ilTnXu41RrxQITuo...|3218 Market StUni...|List(Food, Coffee...|\n",
      "|L5ABFgTmN-T-uZjuG...|5829 Kirby DrWest...|List(Food, Specia...|\n",
      "|M1pXCGikSigFib_ZZ...|257 Marlborough S...|List(Event Planni...|\n",
      "|__PHRVOgyR-WgkKPH...|4126 Executive Dr...|List(Elementary S...|\n",
      "|9j6aqUdpPojPFkb26...|800 E. Colorado B...|List(Car Wash, Au...|\n",
      "|MuTJSKkzF_fmK-eG8...|403 River StTroy,...|List(Bars, Nightl...|\n",
      "|EjgQxDOUS-GFLsNxo...|Liberty Place1625...|List(Cheesesteaks...|\n",
      "|zRvrZaXYgZtFaA-ZR...|1023 Marsh StSan ...|List(Car Wash, Au...|\n",
      "|ipTk8GbPjycGDqGgU...|8 Chambers StPrin...|List(Arts & Craft...|\n",
      "|8q_fyg8fkMeVx69jD...|2401 W Holcombe B...|List(Sandwiches, ...|\n",
      "|iT581VVVGgpik06Kp...|3305 South StLafa...|List(Barbeque, Re...|\n",
      "|QYOtmUPz0eTkV2sLu...|250 W First StSte...|List(Hair Salons,...|\n",
      "+--------------------+--------------------+--------------------+\n",
      "only showing top 20 rows\n",
      "\n",
      "26980\n"
     ]
    }
   ],
   "source": [
    "#preprocessing the business data\n",
    "\n",
    "# read input business csv file to RDD\n",
    "business = sc.textFile(business_path)\n",
    "business_data = list()\n",
    "\n",
    "# collect the RDD to a list\n",
    "llist = business.collect()\n",
    "\n",
    "# checking the line type \n",
    "for line in llist:\n",
    "    business_data.append(tuple(line.split('::')))\n",
    "    \n",
    "#checking for the records as tuples\n",
    "#for line in business_data:\n",
    "#    print(line)\n",
    "\n",
    "#setting up the file headers\n",
    "business_columns = ['businessid','address','categories']\n",
    "\n",
    "#converting the RDD to the DataFrame\n",
    "business_df = sqlContext.createDataFrame(business_data,business_columns)\n",
    "\n",
    "#printing the DF\n",
    "business_df.show()\n",
    "print(business_df.count())"
   ]
  },
  {
   "cell_type": "code",
   "execution_count": 4,
   "metadata": {},
   "outputs": [
    {
     "name": "stdout",
     "output_type": "stream",
     "text": [
      "+--------------------+--------------------+-----+\n",
      "|              userid|          businessid|stars|\n",
      "+--------------------+--------------------+-----+\n",
      "|kT43SxDgMGzbeXpO5...|wbpbaWBfU54JbjLID...|  5.0|\n",
      "|T9hGHsbJW9Hw1cJAl...|4iTRjN_uAdAb7_YZD...|  5.0|\n",
      "|Z_WAxc4RUpKp3y12B...|qw5gR8vW7mSOK4VRO...|  4.0|\n",
      "|OlMjqqzWZUv2-62CS...|81IjU5L-t-QQwsE38...|  4.0|\n",
      "|fs5bpfk-2pvq2v8S1...|Hnz1_h_D1eHSRtQqH...|  2.0|\n",
      "|jm0kgXVEdcQ_tQNzs...|ZRm8fSEBn8DsSLD4o...|  4.0|\n",
      "|1IzWxAfxuHTnzKOup...|-tphABJRkegXV4Fr1...|  4.0|\n",
      "|n_zEixNdHIh9bwEfj...|kYD1PIXBsyZQXG_AE...|  4.0|\n",
      "|bkIgi_PJyr6-2doVw...|Q0t7EEaygJ2hb4uFn...|  4.0|\n",
      "|Hjpn4meBXbjJHd8bk...|fcdjnsgO8Z5LthXUx...|  3.0|\n",
      "|E70xNGVyUEeoNw3tr...|JrGSfjRqAtIZjjwC3...|  5.0|\n",
      "|NNFVXXEkb9Ur2ihVk...|jTPr0dFk2JgGYdDiI...|  5.0|\n",
      "|Jtfz1WbIB_FtYDkO3...|8sGKlCVtewMuA2RGy...|  3.0|\n",
      "|H7s0wAZUKc0V1nahM...|JrGSfjRqAtIZjjwC3...|  5.0|\n",
      "|c4mkYDTjJc-_lOM32...|pTTUqKB3TxaW43ElW...|  4.0|\n",
      "|NJ_U2zzmgI53dSPN0...|jTPr0dFk2JgGYdDiI...|  2.0|\n",
      "|-uQcgLHrjba2hV14h...|V9DXseGJNzLeCxUpM...|  3.0|\n",
      "|EldCtRoQLpKq12_qR...|YMeWjOd1svHDGdDCK...|  5.0|\n",
      "|o95OqAUEOUpwYYUs5...|XIdmWw-OMx5nhpuTS...|  4.0|\n",
      "|d7BpKdEa3RQw7fuSe...|piXuRfZ81xFGA64WF...|  5.0|\n",
      "+--------------------+--------------------+-----+\n",
      "only showing top 20 rows\n",
      "\n",
      "330071\n"
     ]
    }
   ],
   "source": [
    "#preprocessing the review data\n",
    "\n",
    "# read input review csv file to RDD\n",
    "review = sc.textFile(review_path)\n",
    "review_data = list()\n",
    "\n",
    "# collect the RDD to a list\n",
    "llist = review.collect()\n",
    "\n",
    "# checking the line type \n",
    "for line in llist:\n",
    "    review_data.append(tuple(line.split('::')))\n",
    "    \n",
    "#checking for the records as tuples\n",
    "#for line in review_data:\n",
    "#    print(line)\n",
    "\n",
    "#setting up the file headers\n",
    "review_columns = ['reviewid','userid','businessid','stars']\n",
    "\n",
    "#converting the RDD to the DataFrame\n",
    "review_df = sqlContext.createDataFrame(review_data,review_columns)\n",
    "\n",
    "#printing the DF\n",
    "review_df = review_df.drop(review_df.reviewid)\n",
    "review_df.show()\n",
    "print(review_df.count())"
   ]
  },
  {
   "cell_type": "code",
   "execution_count": 5,
   "metadata": {
    "scrolled": true
   },
   "outputs": [
    {
     "name": "stdout",
     "output_type": "stream",
     "text": [
      "+--------------------+\n",
      "|          businessid|\n",
      "+--------------------+\n",
      "|PBqjmOB7Yjti3cFqy...|\n",
      "|PiiDzC9wPzfVA-xyT...|\n",
      "|dTn4zWESE49YRd5Mo...|\n",
      "|4soRFJ8cijXfCeWj7...|\n",
      "|-ar6SC9nUaam_KbOJ...|\n",
      "|f_y0wlUALp8O95b3s...|\n",
      "|9rdigHXd49AKYopcG...|\n",
      "|A9F5f4aXXkrGCnHR6...|\n",
      "|SiBhiwJdO6ivfnMID...|\n",
      "|2t05Wbot3-yqN1Dbf...|\n",
      "|kzV63tmirtI1La8-f...|\n",
      "|szvwhj2QsblOU5yn3...|\n",
      "|VMQv_BIaKyORO0YKa...|\n",
      "|3CU32j5m54UJg45DD...|\n",
      "|YmupeGDFKFLPfPUAe...|\n",
      "|F-FigR53J4BFf8fWI...|\n",
      "|vNxTvFz2cKLmoHVIf...|\n",
      "|zC5XpSAh0cojJzKsG...|\n",
      "|DywFslWJ0MtA2_ycl...|\n",
      "|mQSwnJ31A-fxscL8-...|\n",
      "+--------------------+\n",
      "only showing top 20 rows\n",
      "\n",
      "220\n"
     ]
    }
   ],
   "source": [
    "#filtering Stanford businesses\n",
    "temp = business_df.filter(business_df.address\\\n",
    "                          .like('%Stanford, CA%'))\\\n",
    "                  .drop(business_df.address)\\\n",
    "                  .drop(business_df.categories)\n",
    "\n",
    "temp.show()\n",
    "\n",
    "print(temp.count())"
   ]
  },
  {
   "cell_type": "code",
   "execution_count": 6,
   "metadata": {},
   "outputs": [
    {
     "name": "stdout",
     "output_type": "stream",
     "text": [
      "+--------------------+-----+\n",
      "|              userid|stars|\n",
      "+--------------------+-----+\n",
      "|iL_CR-WQnveqrff9L...|  5.0|\n",
      "|BPkM2rnhMO68Le6Xs...|  5.0|\n",
      "|M6h9KYZHFaZYmVFop...|  1.0|\n",
      "|4_fkSSTFYEUXYPhtp...|  5.0|\n",
      "|ocv3RMJZFScAMHmud...|  5.0|\n",
      "|SSvalZkiN3vqOSH76...|  5.0|\n",
      "|9OyPEDQ0N6i0rWv9S...|  5.0|\n",
      "|0sZ1BLZEocy6fl5Gy...|  5.0|\n",
      "|T_ua0osjaKMUmyhwO...|  5.0|\n",
      "|FHfjAReTovbu0chLv...|  4.0|\n",
      "|rhHvKILdT3wYowrO2...|  3.0|\n",
      "|LW-4t2psvoehLqkcV...|  3.0|\n",
      "|7b9aT8BhpWaFncPaP...|  4.0|\n",
      "|QBgKo-REQCVZBQXT6...|  4.0|\n",
      "|tIRh_AmxJhUgzoHUB...|  3.0|\n",
      "|8fgiuFMuN5yfoALzt...|  2.0|\n",
      "|cJVqHvDLN9g3GE4Vf...|  3.0|\n",
      "|ChfUouMqqio8Zin2w...|  2.0|\n",
      "|DhOSuTlWNnlzoF0Qx...|  3.0|\n",
      "|mZBwEijHmWFTyPktV...|  1.0|\n",
      "+--------------------+-----+\n",
      "only showing top 20 rows\n",
      "\n",
      "1801\n"
     ]
    }
   ],
   "source": [
    "#table joins for business and table\n",
    "business_review_table = temp.join(review_df, review_df.businessid==temp.businessid)\\\n",
    "                            .distinct()\\\n",
    "                            .drop(temp.businessid)\\\n",
    "                            .drop(review_df.businessid)\n",
    "\n",
    "business_review_table.show()\n",
    "\n",
    "print(business_review_table.count())"
   ]
  },
  {
   "cell_type": "code",
   "execution_count": 7,
   "metadata": {},
   "outputs": [
    {
     "name": "stdout",
     "output_type": "stream",
     "text": [
      "1\t2\n"
     ]
    }
   ],
   "source": [
    "def print_format(x,y):\n",
    "    return str(x) + '\\t' + str(y)\n",
    "\n",
    "print(print_format('1','2'))"
   ]
  },
  {
   "cell_type": "code",
   "execution_count": 8,
   "metadata": {},
   "outputs": [],
   "source": [
    "#saving the question 1 answer into a text file\n",
    "print_format_function = udf(lambda x,y : print_format(x,y), StringType())\n",
    "\n",
    "_business_review_rating_df = business_review_table.withColumn('stars',\\\n",
    "                                                   print_format_function(col('userid'),col('stars')))\\\n",
    "                                                  .drop(col('userid'))\n",
    "\n",
    "_business_review_rating_df.write.text('spark_sql_version/userid_rating_table.txt')"
   ]
  },
  {
   "cell_type": "code",
   "execution_count": 9,
   "metadata": {},
   "outputs": [
    {
     "name": "stdout",
     "output_type": "stream",
     "text": [
      "1.0\n"
     ]
    }
   ],
   "source": [
    "def to_float(x):\n",
    "    return float(x)\n",
    "\n",
    "print(to_float('1.0'))"
   ]
  },
  {
   "cell_type": "code",
   "execution_count": 10,
   "metadata": {},
   "outputs": [
    {
     "name": "stdout",
     "output_type": "stream",
     "text": [
      "+--------------------+------------------+\n",
      "|          businessid|        avg(stars)|\n",
      "+--------------------+------------------+\n",
      "|tIIof6-zqlgxImFND...|3.9234234234234235|\n",
      "|b7lMDnk5k84aEBQP_...|              4.75|\n",
      "|Hc3d_UDV7qE30o6We...|              3.55|\n",
      "|8ryg43cozq2DXB6ig...|               3.2|\n",
      "|TuPliHI_pmNQa9ve2...| 3.477272727272727|\n",
      "|UZ0adu-4hd27k-_UR...| 4.218905472636816|\n",
      "|73Gb_mlpMyq6K34Oh...|3.0704225352112675|\n",
      "|2zHPIfZF3-oiPpfaF...|3.2777777777777777|\n",
      "|tbg4gR3jUUllR28cy...| 3.911392405063291|\n",
      "|lpE4ayYybUrRFnXb3...|               3.0|\n",
      "|R109PJPOP1puLUHQW...| 3.806451612903226|\n",
      "|Ryt1Fhgz7sixMQSJi...|2.8076923076923075|\n",
      "|MF_WPyya1KhokJg5_...|               1.0|\n",
      "|I_0XYZrhi2A7weELf...|               1.0|\n",
      "|oMy_UrvOsjcRw0rb3...| 3.848101265822785|\n",
      "|DZXp8m38R0s9U3Saj...|3.9036144578313254|\n",
      "|Y_8ZwQYDznZX1-rs_...| 4.036144578313253|\n",
      "|VzFBygBuHNbyfpQkc...|             2.125|\n",
      "|pBkkizqn2jsP6GJ-J...|               5.0|\n",
      "|F1IDVrjun6KEfscaY...|               4.5|\n",
      "+--------------------+------------------+\n",
      "only showing top 20 rows\n",
      "\n"
     ]
    }
   ],
   "source": [
    "to_float_function = udf(lambda x : to_float(x), FloatType())\n",
    "\n",
    "review_df = review_df.withColumn('stars', to_float_function(col('stars')))\n",
    "\n",
    "avg_review_df = review_df.groupBy('businessid').avg('stars')\n",
    "\n",
    "avg_review_df.show()"
   ]
  },
  {
   "cell_type": "code",
   "execution_count": 11,
   "metadata": {},
   "outputs": [
    {
     "name": "stdout",
     "output_type": "stream",
     "text": [
      "root\n",
      " |-- bid: string (nullable = true)\n",
      " |-- avg(stars): double (nullable = true)\n",
      "\n"
     ]
    }
   ],
   "source": [
    "top_ten_business = avg_review_df.orderBy(col('avg(stars)').desc()).take(10)\n",
    "\n",
    "top_ten_business_df = sqlContext.createDataFrame(top_ten_business,avg_review_df.columns)\\\n",
    "                                .withColumnRenamed('businessid','bid')\n",
    "\n",
    "top_ten_business_df.printSchema()"
   ]
  },
  {
   "cell_type": "code",
   "execution_count": 12,
   "metadata": {},
   "outputs": [
    {
     "name": "stdout",
     "output_type": "stream",
     "text": [
      "+--------------------+--------------------+--------------------+----------+\n",
      "|          businessid|             address|          categories|avg(stars)|\n",
      "+--------------------+--------------------+--------------------+----------+\n",
      "|V0BNdhFIpzxKIGYAo...|1712 W Jefferson ...|List(Elementary S...|       5.0|\n",
      "|VtLD3XfTT7T9T70UD...|3636 Nobel DrSte ...|List(Real Estate ...|       5.0|\n",
      "|XYsw_9orEYR1T7jRo...|143 Harvard Ave2n...|List(Professional...|       5.0|\n",
      "|pBkkizqn2jsP6GJ-J...|4150 Regents Park...|List(Dentists, He...|       5.0|\n",
      "|wl0VZ6n9LrMpDGy_J...|103 Carnegie CtrS...|List(Shopping, Co...|       5.0|\n",
      "|yS8o6eShVkLh_psn6...|400 W Rosemary St...|List(Skin Care, H...|       5.0|\n",
      "|5FJdQwSolZ9WQMnFZ...|4225 Executive Sq...|List(Professional...|       5.0|\n",
      "|ANQJQELoPU2z_nCgO...|731 Peachtree Str...|List(Religious Or...|       5.0|\n",
      "|ZCELOqe_TRJ3I5ldV...|707 S 16th StLafa...|List(Automotive, ...|       5.0|\n",
      "|oBsbQlzSdK7XozGE6...|200 Lothrop StOak...|List(Doctors, Hos...|       5.0|\n",
      "+--------------------+--------------------+--------------------+----------+\n",
      "\n"
     ]
    }
   ],
   "source": [
    "business_rating_table =  business_df.join(top_ten_business_df,\\\n",
    "                                         (business_df.businessid == top_ten_business_df.bid))\\\n",
    "                                    .distinct()\\\n",
    "                                    .drop('bid')\n",
    "\n",
    "business_rating_table.show()"
   ]
  },
  {
   "cell_type": "code",
   "execution_count": 13,
   "metadata": {},
   "outputs": [
    {
     "name": "stdout",
     "output_type": "stream",
     "text": [
      "1\t2\t3\t4\n"
     ]
    }
   ],
   "source": [
    "def print_format(x,y,a,b):\n",
    "    return str(x) + '\\t' + str(y) + '\\t' + str(a) + '\\t' + str(b)\n",
    "\n",
    "print(print_format('1','2','3','4'))"
   ]
  },
  {
   "cell_type": "code",
   "execution_count": 14,
   "metadata": {},
   "outputs": [],
   "source": [
    "print_format_function = udf(lambda x,y,a,b : print_format(x,y,a,b), StringType())\n",
    "\n",
    "_business_rating_table  =  business_rating_table.withColumn('businessid',\\\n",
    "                                                 print_format_function(\\\n",
    "                                                 col('businessid'), col('address'), col('categories'), col('avg(stars)')))\\\n",
    "                                                .drop('address')\\\n",
    "                                                .drop('categories')\\\n",
    "                                                .drop('avg(stars)')\n",
    "\n",
    "_business_rating_table.write.text('spark_sql_version/business_rating_table.txt')"
   ]
  },
  {
   "cell_type": "code",
   "execution_count": null,
   "metadata": {},
   "outputs": [],
   "source": []
  }
 ],
 "metadata": {
  "kernelspec": {
   "display_name": "Python 3",
   "language": "python",
   "name": "python3"
  },
  "language_info": {
   "codemirror_mode": {
    "name": "ipython",
    "version": 3
   },
   "file_extension": ".py",
   "mimetype": "text/x-python",
   "name": "python",
   "nbconvert_exporter": "python",
   "pygments_lexer": "ipython3",
   "version": "3.6.6"
  }
 },
 "nbformat": 4,
 "nbformat_minor": 2
}
